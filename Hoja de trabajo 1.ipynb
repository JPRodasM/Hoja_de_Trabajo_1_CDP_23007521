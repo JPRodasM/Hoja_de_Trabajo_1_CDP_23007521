{
 "cells": [
  {
   "attachments": {},
   "cell_type": "markdown",
   "metadata": {},
   "source": [
    "# Hoja de trabajo 1"
   ]
  },
  {
   "attachments": {},
   "cell_type": "markdown",
   "metadata": {},
   "source": [
    "Juan Pablo Rodas Martinez                **Carnet** 23007521 <br>"
   ]
  },
  {
   "attachments": {},
   "cell_type": "markdown",
   "metadata": {},
   "source": [
    "---"
   ]
  },
  {
   "attachments": {},
   "cell_type": "markdown",
   "metadata": {},
   "source": [
    "## Git"
   ]
  },
  {
   "attachments": {},
   "cell_type": "markdown",
   "metadata": {},
   "source": [
    "VCS (Virtual Control Sistems) son herramientas muy poderosas que nos permiten llevar un control claro y ordenado de los cambios de un proyecto realizados por una o por varias personas, nos permiten lelvar un proceso ordetado para crear un ambiente en donde facilite el desarrollo de nuevas features, revision de bugs, creacion de branches y union de distintas versiones en una. El VCS mas utilizado por los desarrolladores a nivel mundial es Git. \n",
    "\n",
    "VCS modernas nos permiten responder las siguientes preguntas:\n",
    "* ¿Quien escribio este modulo?\n",
    "* ¿Cuado se midifico esta linea en especifico? ¿Quien la modifico? ¿Cual fue el motivo?\n",
    "* ¿En las ultimas versiones, cuando dejo de funcionar una parte del programa?"
   ]
  },
  {
   "attachments": {},
   "cell_type": "markdown",
   "metadata": {},
   "source": [
    "Git nos permite entender el desarrollo de nuestro programa como un conjunto de snapshots en donde cada uno es una version o una modificacion al programa, que nos permite ver que ha cambiado desde el anterior snapshot, y cada uno apunta hacia el snapshot anterior. Esto es especiamente util para cuando queremos entender porque en una version una parte del programa que antes uncionaba, ya no fuciona correctamete en ultimo snapshot. Git nos permite regrsar a una version del programa donde antes este parte no daba errror y poder observar lo que cambio. En este notebook se hizo una prueba al realizar dos branches, una llamada suma y una llaada resta las cuales fueron modificaciones del programa principal, para despues unir ambas branches al master."
   ]
  },
  {
   "attachments": {},
   "cell_type": "markdown",
   "metadata": {},
   "source": [
    "---"
   ]
  },
  {
   "attachments": {},
   "cell_type": "markdown",
   "metadata": {},
   "source": [
    "### Conclusiones"
   ]
  },
  {
   "attachments": {},
   "cell_type": "markdown",
   "metadata": {},
   "source": [
    "1. Git es una herramienta muy poderosa que permite manejar un control de cada una de las versiones de nuestros proyectos\n",
    "2. Un VCS es sumamente util al momento en el que varios desarrolladores trabajan en un mismo proyecto, ya que permite ver el responsable de cada uno de los cambios y unir las distintas brancher creadas por ellos\n",
    "3. A pesar de que Git nos permite llevar el control de las distintas modificaiones, es necesario que estas tambien lleven un proceso ordenado y constante para que sea mas facil el poder aprovechar herramientas como la de revisar cuando una parte del programa ha dejado de funcionar"
   ]
  },
  {
   "attachments": {},
   "cell_type": "markdown",
   "metadata": {},
   "source": [
    "### Comentarios"
   ]
  },
  {
   "attachments": {},
   "cell_type": "markdown",
   "metadata": {},
   "source": [
    "Previo a este ejercicio ya habia tenido la experiencia de usar Git a travez de bitbucket y no habia entendido realmente el trasfondo de este sistema, estaba exactamente como el comic que presentan en la clase. Sin embargo, este experimento me ayudo a reforzar estos conocimientos y a probar utilizarlo desde las *\"magic cels\"* y asi entender bien el trasfondo y el como utilizar git de manera correcta"
   ]
  },
  {
   "attachments": {},
   "cell_type": "markdown",
   "metadata": {},
   "source": [
    "---"
   ]
  },
  {
   "attachments": {},
   "cell_type": "markdown",
   "metadata": {},
   "source": [
    "<center><img src=\"img/gitmeme.png\"/></center>"
   ]
  },
  {
   "attachments": {},
   "cell_type": "markdown",
   "metadata": {},
   "source": [
    "---"
   ]
  },
  {
   "attachments": {},
   "cell_type": "markdown",
   "metadata": {},
   "source": [
    "## Ejemplo de codigo para manejo de versiones"
   ]
  },
  {
   "cell_type": "code",
   "execution_count": 6,
   "metadata": {},
   "outputs": [
    {
     "name": "stdout",
     "output_type": "stream",
     "text": [
      "========================================\n",
      "Bienvenido a la Calculadora mas Poderosa\n",
      "========================================\n",
      "usted desea realizar una  suma\n",
      "el resultado de sumar a 5 el valor de 7 es = 12\n",
      "muchas gracias por utilizar esta avazada calculadora, buen dia :)\n"
     ]
    }
   ],
   "source": [
    "# Codigo\n",
    "import sys\n",
    "\n",
    "def resta(numa,numb):\n",
    "    resultado = numa - numb\n",
    "    return resultado\n",
    "\n",
    "def suma(numa,numb):\n",
    "    resultado = numa + numb\n",
    "    return resultado\n",
    "\n",
    "def main():\n",
    "    val1 = 0\n",
    "    val2 = 0\n",
    "    comando = input(\"ingrese que operacion desea realizar\")\n",
    "    print(\"usted desea realizar una \",comando)\n",
    "    if comando == \"resta\":\n",
    "        val1 = int(input(\"ingrese el primer valor\"))\n",
    "        val2 = int(input(\"ingrese el primer valor\"))\n",
    "        respuesta = resta(val1,val2)\n",
    "        print(\"el resultado de restar a {} el valor de {} es = {}\".format(val1,val2,respuesta))\n",
    "    elif comando == \"suma\":\n",
    "        val1 = int(input(\"ingrese el primer valor\"))\n",
    "        val2 = int(input(\"ingrese el primer valor\"))\n",
    "        respuesta = suma(val1,val2)\n",
    "        print(\"el resultado de sumar a {} el valor de {} es = {}\".format(val1,val2,respuesta))\n",
    "    else:\n",
    "        print(\"usted no desea realizar ni una suma ni una resta\")\n",
    "        \n",
    "    print(\"muchas gracias por utilizar esta avazada calculadora, buen dia :)\")\n",
    "\n",
    "\n",
    "if __name__ == \"__main__\":\n",
    "    print(\"========================================\")\n",
    "    print(\"Bienvenido a la Calculadora mas Poderosa\")\n",
    "    print(\"========================================\")\n",
    "    main()"
   ]
  },
  {
   "attachments": {},
   "cell_type": "markdown",
   "metadata": {},
   "source": [
    "---"
   ]
  },
  {
   "attachments": {},
   "cell_type": "markdown",
   "metadata": {},
   "source": [
    "### Comandos para la creacion de un repositorio"
   ]
  },
  {
   "attachments": {},
   "cell_type": "markdown",
   "metadata": {},
   "source": [
    "Estos comandos se usaron en este cuaderno para crear este repositorio"
   ]
  },
  {
   "cell_type": "code",
   "execution_count": null,
   "metadata": {},
   "outputs": [],
   "source": [
    "!git init"
   ]
  },
  {
   "cell_type": "code",
   "execution_count": null,
   "metadata": {},
   "outputs": [],
   "source": [
    "!git add ."
   ]
  },
  {
   "cell_type": "code",
   "execution_count": null,
   "metadata": {},
   "outputs": [],
   "source": [
    "!git commit -m \"primer comentario\""
   ]
  },
  {
   "cell_type": "code",
   "execution_count": null,
   "metadata": {},
   "outputs": [],
   "source": [
    "!git remote add origin https://github.com/JPRodasM/Hoja_de_Trabajo_1_CDP_23007521.git"
   ]
  },
  {
   "cell_type": "code",
   "execution_count": null,
   "metadata": {},
   "outputs": [],
   "source": [
    "!git push --set-upstream origin master"
   ]
  },
  {
   "attachments": {},
   "cell_type": "markdown",
   "metadata": {},
   "source": [
    "---"
   ]
  },
  {
   "attachments": {},
   "cell_type": "markdown",
   "metadata": {},
   "source": [
    "### Comandos para la actializacion de un repositorio"
   ]
  },
  {
   "attachments": {},
   "cell_type": "markdown",
   "metadata": {},
   "source": [
    "estos comandos se utilizaron para actualizar este repositorio"
   ]
  },
  {
   "cell_type": "code",
   "execution_count": null,
   "metadata": {},
   "outputs": [],
   "source": [
    "!git add ."
   ]
  },
  {
   "cell_type": "code",
   "execution_count": null,
   "metadata": {},
   "outputs": [],
   "source": [
    "!git commit -m \"Comentario que acompaña el commit\""
   ]
  },
  {
   "cell_type": "code",
   "execution_count": null,
   "metadata": {},
   "outputs": [],
   "source": [
    "!git push"
   ]
  },
  {
   "attachments": {},
   "cell_type": "markdown",
   "metadata": {},
   "source": [
    "---"
   ]
  },
  {
   "attachments": {},
   "cell_type": "markdown",
   "metadata": {},
   "source": [
    "### Comando para la creacion de una branch"
   ]
  },
  {
   "attachments": {},
   "cell_type": "markdown",
   "metadata": {},
   "source": [
    "Se creo una branch para agregar la feature de resta"
   ]
  },
  {
   "cell_type": "code",
   "execution_count": null,
   "metadata": {},
   "outputs": [],
   "source": [
    "!git checkout -b resta"
   ]
  },
  {
   "cell_type": "code",
   "execution_count": null,
   "metadata": {},
   "outputs": [],
   "source": [
    "!git status"
   ]
  },
  {
   "cell_type": "code",
   "execution_count": null,
   "metadata": {},
   "outputs": [],
   "source": [
    "!git add ."
   ]
  },
  {
   "cell_type": "code",
   "execution_count": null,
   "metadata": {},
   "outputs": [],
   "source": [
    "!git commit -m \"primer commit de la brach resta\""
   ]
  },
  {
   "cell_type": "code",
   "execution_count": null,
   "metadata": {},
   "outputs": [],
   "source": [
    "!git push --set-upstream origin resta"
   ]
  },
  {
   "attachments": {},
   "cell_type": "markdown",
   "metadata": {},
   "source": [
    "Para va a unir la branch de resta al main"
   ]
  },
  {
   "cell_type": "code",
   "execution_count": null,
   "metadata": {},
   "outputs": [],
   "source": [
    "!git checkout master"
   ]
  },
  {
   "cell_type": "code",
   "execution_count": null,
   "metadata": {},
   "outputs": [],
   "source": [
    "!git merge resta"
   ]
  },
  {
   "cell_type": "code",
   "execution_count": null,
   "metadata": {},
   "outputs": [],
   "source": [
    "!git add ."
   ]
  },
  {
   "cell_type": "code",
   "execution_count": null,
   "metadata": {},
   "outputs": [],
   "source": [
    "!git status"
   ]
  },
  {
   "cell_type": "code",
   "execution_count": null,
   "metadata": {},
   "outputs": [],
   "source": [
    "!git commit -m \"union de branch resta al main\""
   ]
  },
  {
   "cell_type": "code",
   "execution_count": null,
   "metadata": {},
   "outputs": [],
   "source": [
    "!git push"
   ]
  },
  {
   "attachments": {},
   "cell_type": "markdown",
   "metadata": {},
   "source": [
    "---"
   ]
  },
  {
   "attachments": {},
   "cell_type": "markdown",
   "metadata": {},
   "source": [
    "### Representacion grafica de los branches creados"
   ]
  },
  {
   "cell_type": "code",
   "execution_count": 4,
   "metadata": {},
   "outputs": [
    {
     "name": "stdout",
     "output_type": "stream",
     "text": [
      "*   a0dfcbe (HEAD -> master, origin/master) Merge branch 'suma'\n",
      "|\\  \n",
      "| * 15ccf99 (origin/suma, suma) ultima suma\n",
      "* | 7a10958 merge a master 2\n",
      "|/  \n",
      "*   4bd99a2 Merge branch 'master' into suma\n",
      "|\\  \n",
      "| * f119e5f commit paralelo al branch suma\n",
      "* | 39291fb ajustes para merge\n",
      "* | 21fa060 primer commit de branch suma\n",
      "|/  \n",
      "* 3e64152 (origin/resta, resta) segundo commit de la brach resta\n",
      "* 6c6ab9b primer commit de la brach resta\n",
      "* ba1e814 Mas ordenado e imagen centrada\n",
      "* 04918a4 primer comentario\n",
      "* 35d4a20 primer comentario\n",
      "* 7a91e13 Siguiente version\n",
      "* ad3e625 Comentario que acompaña el commit\n",
      "* 0365520 Tercer comentario\n",
      "* ddb2479 Segundo comentario\n",
      "* ff01532 primer comentario\n"
     ]
    }
   ],
   "source": [
    "!git log --all --graph --decorate --oneline"
   ]
  }
 ],
 "metadata": {
  "kernelspec": {
   "display_name": "base",
   "language": "python",
   "name": "python3"
  },
  "language_info": {
   "codemirror_mode": {
    "name": "ipython",
    "version": 3
   },
   "file_extension": ".py",
   "mimetype": "text/x-python",
   "name": "python",
   "nbconvert_exporter": "python",
   "pygments_lexer": "ipython3",
   "version": "3.9.13"
  },
  "orig_nbformat": 4,
  "vscode": {
   "interpreter": {
    "hash": "0bfab090e78322557efdda86b1a9ba3dae027e2044eda92e4760772339eaf967"
   }
  }
 },
 "nbformat": 4,
 "nbformat_minor": 2
}
