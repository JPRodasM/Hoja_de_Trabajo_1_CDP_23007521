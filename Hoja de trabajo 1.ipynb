{
 "cells": [
  {
   "attachments": {},
   "cell_type": "markdown",
   "metadata": {},
   "source": [
    "# Hoja de trabajo 1"
   ]
  },
  {
   "attachments": {},
   "cell_type": "markdown",
   "metadata": {},
   "source": [
    "Juan Pablo Rodas Martinez Carnet 23007521 <br>"
   ]
  },
  {
   "cell_type": "code",
   "execution_count": 14,
   "metadata": {},
   "outputs": [
    {
     "name": "stdout",
     "output_type": "stream",
     "text": [
      "hola mundo\n"
     ]
    }
   ],
   "source": [
    "print(\"hola mundo\")"
   ]
  },
  {
   "attachments": {},
   "cell_type": "markdown",
   "metadata": {},
   "source": [
    "![gitmeme.png](C:\\Users\\JuanPablo\\Documents\\Galileo\\Trimestre 1\\Ciencia de datos en python\\HojaDeTrabajo1\\img\\gitmeme.png)\n",
    "\n",
    "![][id]\n",
    "[id]:gitmeme.png \"Title\""
   ]
  },
  {
   "attachments": {},
   "cell_type": "markdown",
   "metadata": {},
   "source": [
    "## Git"
   ]
  },
  {
   "attachments": {},
   "cell_type": "markdown",
   "metadata": {},
   "source": [
    "VCS (Virtual Control Sistems) son herramientas muy poderosas que nos permiten llevar un control claro y ordenado de los cambios de un proyecto realizados por una o por varias personas, nos permiten lelvar un proceso ordetado para crear un ambiente en donde facilite el desarrollo de nuevas features, revision de bugs, creacion de branches y union de distintas versiones en una. El VCS mas utilizado por los desarrolladores a nivel mundial es Git. "
   ]
  },
  {
   "cell_type": "code",
   "execution_count": 8,
   "metadata": {},
   "outputs": [
    {
     "name": "stdout",
     "output_type": "stream",
     "text": [
      "Initialized empty Git repository in c:/Users/JuanPablo/Documents/Galileo/Trimestre 1/Ciencia de datos en python/HojaDeTrabajo1/.git/\n"
     ]
    }
   ],
   "source": [
    "!git init"
   ]
  },
  {
   "attachments": {},
   "cell_type": "markdown",
   "metadata": {},
   "source": [
    "# Comandos para la creacion de un repositorio"
   ]
  },
  {
   "attachments": {},
   "cell_type": "markdown",
   "metadata": {},
   "source": [
    "Estos comandos se usaron en este cuaderno para crear este repositorio"
   ]
  },
  {
   "cell_type": "code",
   "execution_count": 9,
   "metadata": {},
   "outputs": [],
   "source": [
    "!git add ."
   ]
  },
  {
   "cell_type": "code",
   "execution_count": 10,
   "metadata": {},
   "outputs": [
    {
     "name": "stdout",
     "output_type": "stream",
     "text": [
      "[master (root-commit) ff01532] primer comentario\n",
      " 1 file changed, 0 insertions(+), 0 deletions(-)\n",
      " create mode 100644 Hoja de trabajo 1.ipynb\n"
     ]
    }
   ],
   "source": [
    "!git commit -m \"primer comentario\""
   ]
  },
  {
   "cell_type": "code",
   "execution_count": 11,
   "metadata": {},
   "outputs": [],
   "source": [
    "!git remote add origin https://github.com/JPRodasM/Hoja_de_Trabajo_1_CDP_23007521.git"
   ]
  },
  {
   "cell_type": "code",
   "execution_count": 13,
   "metadata": {},
   "outputs": [
    {
     "name": "stdout",
     "output_type": "stream",
     "text": [
      "^C\n"
     ]
    }
   ],
   "source": [
    "!git push --set-upstream origin master"
   ]
  },
  {
   "attachments": {},
   "cell_type": "markdown",
   "metadata": {},
   "source": [
    "# Comandos para la actializacion de un repositorio"
   ]
  },
  {
   "attachments": {},
   "cell_type": "markdown",
   "metadata": {},
   "source": [
    "estos comandos se utilizaron para actualizar este repositorio"
   ]
  },
  {
   "cell_type": "code",
   "execution_count": null,
   "metadata": {},
   "outputs": [],
   "source": [
    "!git add ."
   ]
  },
  {
   "cell_type": "code",
   "execution_count": null,
   "metadata": {},
   "outputs": [],
   "source": [
    "!git commit -m \"Comentario que acompaña el commit\""
   ]
  },
  {
   "cell_type": "code",
   "execution_count": null,
   "metadata": {},
   "outputs": [],
   "source": [
    "git push"
   ]
  }
 ],
 "metadata": {
  "kernelspec": {
   "display_name": "base",
   "language": "python",
   "name": "python3"
  },
  "language_info": {
   "codemirror_mode": {
    "name": "ipython",
    "version": 3
   },
   "file_extension": ".py",
   "mimetype": "text/x-python",
   "name": "python",
   "nbconvert_exporter": "python",
   "pygments_lexer": "ipython3",
   "version": "3.9.13"
  },
  "orig_nbformat": 4,
  "vscode": {
   "interpreter": {
    "hash": "0bfab090e78322557efdda86b1a9ba3dae027e2044eda92e4760772339eaf967"
   }
  }
 },
 "nbformat": 4,
 "nbformat_minor": 2
}
