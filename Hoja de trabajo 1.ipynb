{
 "cells": [
  {
   "attachments": {},
   "cell_type": "markdown",
   "metadata": {},
   "source": [
    "# Hoja de trabajo 1"
   ]
  },
  {
   "attachments": {},
   "cell_type": "markdown",
   "metadata": {},
   "source": [
    "Juan Pablo Rodas Martinez Carnet 23007521 <br>"
   ]
  },
  {
   "attachments": {},
   "cell_type": "markdown",
   "metadata": {},
   "source": [
    "## Git"
   ]
  },
  {
   "attachments": {},
   "cell_type": "markdown",
   "metadata": {},
   "source": [
    "VCS (Virtual Control Sistems) son herramientas muy poderosas que nos permiten llevar un control claro y ordenado de los cambios de un proyecto realizados por una o por varias personas, nos permiten lelvar un proceso ordetado para crear un ambiente en donde facilite el desarrollo de nuevas features, revision de bugs, creacion de branches y union de distintas versiones en una. El VCS mas utilizado por los desarrolladores a nivel mundial es Git. \n",
    "\n",
    "VCS modernas nos permiten responder las siguientes preguntas:\n",
    "* ¿Quien escribio este modulo?\n",
    "* ¿Cuado se midifico esta linea en especifico? ¿Quien la modifico? ¿Cual fue el motivo?\n",
    "* ¿En las ultimas versiones, cuando dejo de funcionar una parte del programa?"
   ]
  },
  {
   "attachments": {},
   "cell_type": "markdown",
   "metadata": {},
   "source": [
    "Git nos permite entender el desarrollo de nuestro programa como un conjunto de snapshots en donde cada uno es una version o una modificacion al programa, que nos permite ver que ha cambiado desde el anterior snapshot, y cada uno apunta hacia el snapshot anterior. Esto es especiamente util para cuando queremos entender porque en una version una parte del programa que antes uncionaba, ya no fuciona correctamete en ultimo snapshot. Git nos permite regrsar a una version del programa donde antes este parte no daba errror y poder observar lo que cambio. "
   ]
  },
  {
   "attachments": {},
   "cell_type": "markdown",
   "metadata": {},
   "source": [
    "<center><img src=\"img/gitmeme.png\"/></center>"
   ]
  },
  {
   "attachments": {},
   "cell_type": "markdown",
   "metadata": {},
   "source": [
    "## Ejemplo de codigo para manejo de versiones"
   ]
  },
  {
   "cell_type": "code",
   "execution_count": 52,
   "metadata": {},
   "outputs": [
    {
     "name": "stdout",
     "output_type": "stream",
     "text": [
      "el resultado de restar a 9 el valor de 6 es 3\n"
     ]
    }
   ],
   "source": [
    "# Codigo\n",
    "import sys\n",
    "\n",
    "def resta(numa,numb):\n",
    "    resultado = numa - numb\n",
    "    return resultado\n",
    "\n",
    "def main():\n",
    "    val1 = 0\n",
    "    val2 = 0\n",
    "    comando = input(\"ingrese que operacion desea realizar\")\n",
    "    if comando == \"resta\":\n",
    "        val1 = int(input(\"ingrese el primer valor\"))\n",
    "        val2 = int(input(\"ingrese el primer valor\"))\n",
    "        respuesta = resta(val1,val2)\n",
    "        print(\"el resultado de restar a {} el valor de {} es {}\".format(val1,val2,respuesta))\n",
    "    else:\n",
    "        print(\"termino el programa\")\n",
    "\n",
    "\n",
    "if __name__ == \"__main__\":\n",
    "    main()"
   ]
  },
  {
   "attachments": {},
   "cell_type": "markdown",
   "metadata": {},
   "source": [
    "### Comandos para la creacion de un repositorio"
   ]
  },
  {
   "attachments": {},
   "cell_type": "markdown",
   "metadata": {},
   "source": [
    "Estos comandos se usaron en este cuaderno para crear este repositorio"
   ]
  },
  {
   "cell_type": "code",
   "execution_count": null,
   "metadata": {},
   "outputs": [],
   "source": [
    "!git init"
   ]
  },
  {
   "cell_type": "code",
   "execution_count": null,
   "metadata": {},
   "outputs": [],
   "source": [
    "!git add ."
   ]
  },
  {
   "cell_type": "code",
   "execution_count": null,
   "metadata": {},
   "outputs": [],
   "source": [
    "!git commit -m \"primer comentario\""
   ]
  },
  {
   "cell_type": "code",
   "execution_count": null,
   "metadata": {},
   "outputs": [],
   "source": [
    "!git remote add origin https://github.com/JPRodasM/Hoja_de_Trabajo_1_CDP_23007521.git"
   ]
  },
  {
   "cell_type": "code",
   "execution_count": null,
   "metadata": {},
   "outputs": [],
   "source": [
    "!git push --set-upstream origin master"
   ]
  },
  {
   "attachments": {},
   "cell_type": "markdown",
   "metadata": {},
   "source": [
    "### Comandos para la actializacion de un repositorio"
   ]
  },
  {
   "attachments": {},
   "cell_type": "markdown",
   "metadata": {},
   "source": [
    "estos comandos se utilizaron para actualizar este repositorio"
   ]
  },
  {
   "cell_type": "code",
   "execution_count": null,
   "metadata": {},
   "outputs": [],
   "source": [
    "!git add ."
   ]
  },
  {
   "cell_type": "code",
   "execution_count": null,
   "metadata": {},
   "outputs": [],
   "source": [
    "!git commit -m \"Comentario que acompaña el commit\""
   ]
  },
  {
   "cell_type": "code",
   "execution_count": null,
   "metadata": {},
   "outputs": [],
   "source": [
    "!git push"
   ]
  },
  {
   "attachments": {},
   "cell_type": "markdown",
   "metadata": {},
   "source": [
    "### Comando para la creacion de una branch"
   ]
  },
  {
   "attachments": {},
   "cell_type": "markdown",
   "metadata": {},
   "source": [
    "Se creo una branch para agregar la feature de resta"
   ]
  },
  {
   "cell_type": "code",
   "execution_count": 49,
   "metadata": {},
   "outputs": [
    {
     "name": "stderr",
     "output_type": "stream",
     "text": [
      "Switched to a new branch 'resta'\n"
     ]
    }
   ],
   "source": [
    "!git checkout -b resta"
   ]
  },
  {
   "cell_type": "code",
   "execution_count": 54,
   "metadata": {},
   "outputs": [
    {
     "name": "stdout",
     "output_type": "stream",
     "text": [
      "On branch resta\n",
      "Changes not staged for commit:\n",
      "  (use \"git add <file>...\" to update what will be committed)\n",
      "  (use \"git checkout -- <file>...\" to discard changes in working directory)\n",
      "\n",
      "\tmodified:   Hoja de trabajo 1.ipynb\n",
      "\n",
      "no changes added to commit (use \"git add\" and/or \"git commit -a\")\n"
     ]
    }
   ],
   "source": [
    "!git status"
   ]
  },
  {
   "cell_type": "code",
   "execution_count": 55,
   "metadata": {},
   "outputs": [
    {
     "name": "stderr",
     "output_type": "stream",
     "text": [
      "warning: LF will be replaced by CRLF in Hoja de trabajo 1.ipynb.\n",
      "The file will have its original line endings in your working directory\n"
     ]
    }
   ],
   "source": [
    "!git add ."
   ]
  },
  {
   "cell_type": "code",
   "execution_count": 56,
   "metadata": {},
   "outputs": [
    {
     "name": "stdout",
     "output_type": "stream",
     "text": [
      "[resta 6c6ab9b] primer commit de la brach resta\n",
      " 1 file changed, 99 insertions(+), 7 deletions(-)\n"
     ]
    }
   ],
   "source": [
    "!git commit -m \"primer commit de la brach resta\""
   ]
  },
  {
   "cell_type": "code",
   "execution_count": 59,
   "metadata": {},
   "outputs": [
    {
     "name": "stdout",
     "output_type": "stream",
     "text": [
      "Branch 'resta' set up to track remote branch 'resta' from 'origin'.\n"
     ]
    },
    {
     "name": "stderr",
     "output_type": "stream",
     "text": [
      "remote: \n",
      "remote: Create a pull request for 'resta' on GitHub by visiting:        \n",
      "remote:      https://github.com/JPRodasM/Hoja_de_Trabajo_1_CDP_23007521/pull/new/resta        \n",
      "remote: \n",
      "To https://github.com/JPRodasM/Hoja_de_Trabajo_1_CDP_23007521.git\n",
      " * [new branch]      resta -> resta\n"
     ]
    }
   ],
   "source": [
    "!git push --set-upstream origin resta"
   ]
  },
  {
   "attachments": {},
   "cell_type": "markdown",
   "metadata": {},
   "source": [
    "Para va a unir la branch de resta al main"
   ]
  },
  {
   "cell_type": "code",
   "execution_count": null,
   "metadata": {},
   "outputs": [],
   "source": []
  }
 ],
 "metadata": {
  "kernelspec": {
   "display_name": "base",
   "language": "python",
   "name": "python3"
  },
  "language_info": {
   "codemirror_mode": {
    "name": "ipython",
    "version": 3
   },
   "file_extension": ".py",
   "mimetype": "text/x-python",
   "name": "python",
   "nbconvert_exporter": "python",
   "pygments_lexer": "ipython3",
   "version": "3.9.13"
  },
  "orig_nbformat": 4,
  "vscode": {
   "interpreter": {
    "hash": "0bfab090e78322557efdda86b1a9ba3dae027e2044eda92e4760772339eaf967"
   }
  }
 },
 "nbformat": 4,
 "nbformat_minor": 2
}
