{
 "cells": [
  {
   "attachments": {},
   "cell_type": "markdown",
   "metadata": {},
   "source": [
    "# Hoja de trabajo 1"
   ]
  },
  {
   "attachments": {},
   "cell_type": "markdown",
   "metadata": {},
   "source": [
    "Juan Pablo Rodas Martinez Carnet 23007521 <br>"
   ]
  },
  {
   "attachments": {},
   "cell_type": "markdown",
   "metadata": {},
   "source": [
    "## Ejemplo de codigo para manejo de versiones"
   ]
  },
  {
   "cell_type": "code",
   "execution_count": 22,
   "metadata": {},
   "outputs": [
    {
     "name": "stdout",
     "output_type": "stream",
     "text": [
      "termino el programa\n"
     ]
    }
   ],
   "source": [
    "# Codigo\n",
    "import sys\n",
    "\n",
    "def suma(numa,numb):\n",
    "    resultado = numa + numb\n",
    "    return resultado\n",
    "\n",
    "def main():\n",
    "    comando = input(\"ingrese que operacion desea realizar\")\n",
    "    if comando == suma:\n",
    "        respuesta = suma(int(sys.argv[2]),int(sysargv[3]))\n",
    "        print(\"el resultado de la suma es {}\".format(respuesta))\n",
    "    else:\n",
    "        print(\"termino el programa\")\n",
    "\n",
    "\n",
    "if __name__ == \"__main__\":\n",
    "    main()"
   ]
  },
  {
   "attachments": {},
   "cell_type": "markdown",
   "metadata": {},
   "source": [
    "## Git"
   ]
  },
  {
   "attachments": {},
   "cell_type": "markdown",
   "metadata": {},
   "source": [
    "VCS (Virtual Control Sistems) son herramientas muy poderosas que nos permiten llevar un control claro y ordenado de los cambios de un proyecto realizados por una o por varias personas, nos permiten lelvar un proceso ordetado para crear un ambiente en donde facilite el desarrollo de nuevas features, revision de bugs, creacion de branches y union de distintas versiones en una. El VCS mas utilizado por los desarrolladores a nivel mundial es Git. \n",
    "\n",
    "VCS modernas nos permiten responder las siguientes preguntas:\n",
    "* ¿Quien escribio este modulo?\n",
    "* ¿Cuado se midifico esta linea en especifico? ¿Quien la modifico? ¿Cual fue el motivo?\n",
    "* ¿En las ultimas versiones, cuando dejo de funcionar una parte del programa?"
   ]
  },
  {
   "attachments": {},
   "cell_type": "markdown",
   "metadata": {},
   "source": [
    "Git nos permite entender el desarrollo de nuestro programa como un conjunto de snapshots en donde cada uno es una version o una modificacion al programa, que nos permite ver que ha cambiado desde el anterior snapshot, y cada uno apunta hacia el snapshot anterior. Esto es especiamente util para cuando queremos entender porque en una version una parte del programa que antes uncionaba, ya no fuciona correctamete en ultimo snapshot. Git nos permite regrsar a una version del programa donde antes este parte no daba errror y poder observar lo que cambio. "
   ]
  },
  {
   "attachments": {},
   "cell_type": "markdown",
   "metadata": {},
   "source": [
    "<center><img src=\"img/gitmeme.png\"/></center>"
   ]
  },
  {
   "attachments": {},
   "cell_type": "markdown",
   "metadata": {},
   "source": [
    "### Comandos para la creacion de un repositorio"
   ]
  },
  {
   "attachments": {},
   "cell_type": "markdown",
   "metadata": {},
   "source": [
    "Estos comandos se usaron en este cuaderno para crear este repositorio"
   ]
  },
  {
   "cell_type": "code",
   "execution_count": 23,
   "metadata": {},
   "outputs": [
    {
     "name": "stdout",
     "output_type": "stream",
     "text": [
      "Reinitialized existing Git repository in c:/Users/JuanPablo/Documents/Galileo/Trimestre 1/Ciencia de datos en python/HojaDeTrabajo1/.git/\n"
     ]
    }
   ],
   "source": [
    "!git init"
   ]
  },
  {
   "cell_type": "code",
   "execution_count": 24,
   "metadata": {},
   "outputs": [
    {
     "name": "stderr",
     "output_type": "stream",
     "text": [
      "warning: LF will be replaced by CRLF in Hoja de trabajo 1.ipynb.\n",
      "The file will have its original line endings in your working directory\n"
     ]
    }
   ],
   "source": [
    "!git add ."
   ]
  },
  {
   "cell_type": "code",
   "execution_count": 25,
   "metadata": {},
   "outputs": [
    {
     "name": "stdout",
     "output_type": "stream",
     "text": [
      "[master 35d4a20] primer comentario\n",
      " 1 file changed, 23 insertions(+), 9 deletions(-)\n"
     ]
    }
   ],
   "source": [
    "!git commit -m \"primer comentario\""
   ]
  },
  {
   "cell_type": "code",
   "execution_count": 26,
   "metadata": {},
   "outputs": [
    {
     "name": "stderr",
     "output_type": "stream",
     "text": [
      "fatal: remote origin already exists.\n"
     ]
    }
   ],
   "source": [
    "!git remote add origin https://github.com/JPRodasM/Hoja_de_Trabajo_1_CDP_23007521.git"
   ]
  },
  {
   "cell_type": "code",
   "execution_count": 27,
   "metadata": {},
   "outputs": [
    {
     "name": "stdout",
     "output_type": "stream",
     "text": [
      "Branch 'master' set up to track remote branch 'master' from 'origin'.\n"
     ]
    },
    {
     "name": "stderr",
     "output_type": "stream",
     "text": [
      "To https://github.com/JPRodasM/Hoja_de_Trabajo_1_CDP_23007521.git\n",
      "   7a91e13..35d4a20  master -> master\n"
     ]
    }
   ],
   "source": [
    "!git push --set-upstream origin master"
   ]
  },
  {
   "attachments": {},
   "cell_type": "markdown",
   "metadata": {},
   "source": [
    "### Comandos para la actializacion de un repositorio"
   ]
  },
  {
   "attachments": {},
   "cell_type": "markdown",
   "metadata": {},
   "source": [
    "estos comandos se utilizaron para actualizar este repositorio"
   ]
  },
  {
   "cell_type": "code",
   "execution_count": 28,
   "metadata": {},
   "outputs": [],
   "source": [
    "!git add ."
   ]
  },
  {
   "cell_type": "code",
   "execution_count": 29,
   "metadata": {},
   "outputs": [
    {
     "name": "stdout",
     "output_type": "stream",
     "text": [
      "On branch master\n",
      "Your branch is up to date with 'origin/master'.\n",
      "\n",
      "nothing to commit, working tree clean\n"
     ]
    }
   ],
   "source": [
    "!git commit -m \"Comentario que acompaña el commit\""
   ]
  },
  {
   "cell_type": "code",
   "execution_count": 30,
   "metadata": {},
   "outputs": [
    {
     "name": "stderr",
     "output_type": "stream",
     "text": [
      "Everything up-to-date\n"
     ]
    }
   ],
   "source": [
    "!git push"
   ]
  }
 ],
 "metadata": {
  "kernelspec": {
   "display_name": "base",
   "language": "python",
   "name": "python3"
  },
  "language_info": {
   "codemirror_mode": {
    "name": "ipython",
    "version": 3
   },
   "file_extension": ".py",
   "mimetype": "text/x-python",
   "name": "python",
   "nbconvert_exporter": "python",
   "pygments_lexer": "ipython3",
   "version": "3.9.13"
  },
  "orig_nbformat": 4,
  "vscode": {
   "interpreter": {
    "hash": "0bfab090e78322557efdda86b1a9ba3dae027e2044eda92e4760772339eaf967"
   }
  }
 },
 "nbformat": 4,
 "nbformat_minor": 2
}
